{
 "cells": [
  {
   "cell_type": "markdown",
   "metadata": {},
   "source": [
    "# Custom Object Detection\n",
    "## Data Preprocessor\n",
    "\n",
    "This notebook is for preprocessing your data into tf record files and creating a label_map\n",
    "\n",
    "Project Structure of Collected\n",
    "```\n",
    "data_preprocessing/  \n",
    "    |\n",
    "    |---data/\n",
    "    |       |---predefined_classes.txt\n",
    "    |       |___train/\n",
    "    |       |       |---all train images files\n",
    "    |       |       |---...\n",
    "    |       |       |---xml files of respective test images\n",
    "    |       |       |---...\n",
    "    |       |\n",
    "    |       |___test/\n",
    "    |               |---all test images files\n",
    "    |               |---...\n",
    "    |               |---xml files of respective test images\n",
    "    |               |---....\n",
    "    |           \n",
    "    |---labelImg.exe   \n",
    "    |---transform_resolution.py\n",
    "    |---xml_to_csv.py\n",
    "    |---generate_tfrecord.py\n",
    "    |---Preprocess_Data.ipynb\n",
    "```"
   ]
  },
  {
   "cell_type": "markdown",
   "metadata": {},
   "source": [
    "## Transform Resolution (optional)\n",
    "If you manually shot the images using a camera or phone, you may want to reduce the resolution"
   ]
  },
  {
   "cell_type": "code",
   "execution_count": null,
   "metadata": {},
   "outputs": [],
   "source": [
    "# resize all images in train and test dir to 800x600\n",
    "!python transform_resolution.py -d data/train/ -s 800 600\n",
    "\n",
    "!python transform_resolution.py -d data/test/ -s 800 600"
   ]
  },
  {
   "cell_type": "markdown",
   "metadata": {},
   "source": [
    "## Convert xml to csv files"
   ]
  },
  {
   "cell_type": "code",
   "execution_count": null,
   "metadata": {},
   "outputs": [],
   "source": [
    "!python xml_to_csv.py -i data/train -o data/train_labels.csv\n",
    "\n",
    "!python xml_to_csv.py -i data/test -o data/test_labels.csv"
   ]
  },
  {
   "cell_type": "markdown",
   "metadata": {},
   "source": [
    "## Generate tf.record files from csv\n",
    "Edit `generate_tfrecord.py` and update your labels in `class_text_to_int()` function at line 31. Add if statements as per your labels.\n",
    "\n",
    "For example, if we have a dog and cat detector, we would modify the function as\n",
    "```python\n",
    "def class_text_to_int(row_label):\n",
    "    if row_label == 'cat':\n",
    "        return 1\n",
    "    elif row_label == 'dog':\n",
    "        return 2\n",
    "    else:\n",
    "        None\n",
    "```"
   ]
  },
  {
   "cell_type": "code",
   "execution_count": null,
   "metadata": {},
   "outputs": [],
   "source": [
    "%%writefile generate_tfrecord.py\n",
    "\"\"\"\n",
    "Usage:\n",
    "  # From tensorflow/models/\n",
    "  # Create train data:\n",
    "  python generate_tfrecord.py --csv_input=data/train_labels.csv  --output_path=train.record\n",
    "\n",
    "  # Create test data:\n",
    "  python generate_tfrecord.py --csv_input=data/test_labels.csv  --output_path=test.record\n",
    "\"\"\"\n",
    "from __future__ import division\n",
    "from __future__ import print_function\n",
    "from __future__ import absolute_import\n",
    "\n",
    "import os\n",
    "import io\n",
    "import pandas as pd\n",
    "import tensorflow as tf\n",
    "\n",
    "from PIL import Image\n",
    "from object_detection.utils import dataset_util\n",
    "from collections import namedtuple, OrderedDict\n",
    "\n",
    "flags = tf.app.flags\n",
    "flags.DEFINE_string('csv_input', '', 'Path to the CSV input')\n",
    "flags.DEFINE_string('output_path', '', 'Path to output TFRecord')\n",
    "flags.DEFINE_string('image_dir', '', 'Path to images')\n",
    "FLAGS = flags.FLAGS\n",
    "\n",
    "\n",
    "# REPLACE/ADD IF STATEMENTS AS PER YOUR YOUR LABELS\n",
    "def class_text_to_int(row_label):\n",
    "    if row_label == 'product':\n",
    "        return 1\n",
    "    else:\n",
    "        None\n",
    "\n",
    "\n",
    "def split(df, group):\n",
    "    data = namedtuple('data', ['filename', 'object'])\n",
    "    gb = df.groupby(group)\n",
    "    return [data(filename, gb.get_group(x)) for filename, x in zip(gb.groups.keys(), gb.groups)]\n",
    "\n",
    "\n",
    "def create_tf_example(group, path):\n",
    "    with tf.gfile.GFile(os.path.join(path, '{}'.format(group.filename)), 'rb') as fid:\n",
    "        encoded_jpg = fid.read()\n",
    "    encoded_jpg_io = io.BytesIO(encoded_jpg)\n",
    "    image = Image.open(encoded_jpg_io)\n",
    "    width, height = image.size\n",
    "\n",
    "    filename = group.filename.encode('utf8')\n",
    "    image_format = b'jpg'\n",
    "    xmins = []\n",
    "    xmaxs = []\n",
    "    ymins = []\n",
    "    ymaxs = []\n",
    "    classes_text = []\n",
    "    classes = []\n",
    "\n",
    "    for index, row in group.object.iterrows():\n",
    "        xmins.append(row['xmin'] / width)\n",
    "        xmaxs.append(row['xmax'] / width)\n",
    "        ymins.append(row['ymin'] / height)\n",
    "        ymaxs.append(row['ymax'] / height)\n",
    "        classes_text.append(row['class'].encode('utf8'))\n",
    "        classes.append(class_text_to_int(row['class']))\n",
    "\n",
    "    tf_example = tf.train.Example(features=tf.train.Features(feature={\n",
    "        'image/height': dataset_util.int64_feature(height),\n",
    "        'image/width': dataset_util.int64_feature(width),\n",
    "        'image/filename': dataset_util.bytes_feature(filename),\n",
    "        'image/source_id': dataset_util.bytes_feature(filename),\n",
    "        'image/encoded': dataset_util.bytes_feature(encoded_jpg),\n",
    "        'image/format': dataset_util.bytes_feature(image_format),\n",
    "        'image/object/bbox/xmin': dataset_util.float_list_feature(xmins),\n",
    "        'image/object/bbox/xmax': dataset_util.float_list_feature(xmaxs),\n",
    "        'image/object/bbox/ymin': dataset_util.float_list_feature(ymins),\n",
    "        'image/object/bbox/ymax': dataset_util.float_list_feature(ymaxs),\n",
    "        'image/object/class/text': dataset_util.bytes_list_feature(classes_text),\n",
    "        'image/object/class/label': dataset_util.int64_list_feature(classes),\n",
    "    }))\n",
    "    return tf_example\n",
    "\n",
    "\n",
    "def main(_):\n",
    "    writer = tf.python_io.TFRecordWriter(FLAGS.output_path)\n",
    "    path = os.path.join(FLAGS.image_dir)\n",
    "    examples = pd.read_csv(FLAGS.csv_input)\n",
    "    grouped = split(examples, 'filename')\n",
    "    #print(grouped)\n",
    "    for group in grouped:\n",
    "        tf_example = create_tf_example(group, path)\n",
    "        writer.write(tf_example.SerializeToString())\n",
    "\n",
    "    writer.close()\n",
    "    output_path = os.path.join(os.getcwd(), FLAGS.output_path)\n",
    "    print('Successfully created the TFRecords: {}'.format(output_path))\n",
    "\n",
    "\n",
    "if __name__ == '__main__':\n",
    "    tf.app.run()\n"
   ]
  },
  {
   "cell_type": "markdown",
   "metadata": {},
   "source": [
    "Once you are done with updating the file with your labels, run the script with appropriate directories of images and csv files"
   ]
  },
  {
   "cell_type": "code",
   "execution_count": null,
   "metadata": {},
   "outputs": [],
   "source": [
    "!python generate_tfrecord.py --csv_input=data/train_labels.csv  --output_path=data/train.record --image_dir=data/train\n",
    "\n",
    "!python generate_tfrecord.py --csv_input=data/test_labels.csv  --output_path=data/test.record --image_dir=data/test"
   ]
  },
  {
   "cell_type": "markdown",
   "metadata": {},
   "source": [
    "## Creating the Label Map\n",
    "In the below cell edit the label id and name and add item objects based on your labels\n",
    "\n",
    "For example,\n",
    "```\n",
    "item {\n",
    "    id: 1\n",
    "    name: 'cat'\n",
    "}\n",
    "item {\n",
    "    id: 2\n",
    "    name: 'dog'\n",
    "}\n",
    "```"
   ]
  },
  {
   "cell_type": "code",
   "execution_count": null,
   "metadata": {},
   "outputs": [],
   "source": [
    "%%writefile data/label_map.pbtxt\n",
    "\n",
    "item {\n",
    "    id: 1\n",
    "    name: 'product'\n",
    "}"
   ]
  },
  {
   "cell_type": "markdown",
   "metadata": {},
   "source": [
    "## Archiving the processed data files\n",
    "Now that we have generated the required files for training like the `label_map.pbtxt`, `train.record` and `test.record`, we will archive it into a zip file so that we can easily upload it to our [training notebook on colab]()."
   ]
  },
  {
   "cell_type": "code",
   "execution_count": null,
   "metadata": {},
   "outputs": [],
   "source": [
    "import os\n",
    "import shutil"
   ]
  },
  {
   "cell_type": "code",
   "execution_count": null,
   "metadata": {},
   "outputs": [],
   "source": [
    "os.mkdir('data/tmp/')\n",
    "\n",
    "shutil.copy(\"data/label_map.pbtxt\", \"data/tmp/label_map.pbtxt\")\n",
    "shutil.copy(\"data/train.record\", \"data/tmp/train.record\")\n",
    "shutil.copy(\"data/test.record\", \"data/tmp/test.record\")\n",
    "\n",
    "shutil.make_archive('data.zip', 'zip', 'data/tmp')\n",
    "\n",
    "shutil.rmtree('data/tmp/')"
   ]
  },
  {
   "cell_type": "markdown",
   "metadata": {},
   "source": [
    "#### Now you can move on to the [colab training notebook](https://colab.research.google.com/github/theneuralbeing/object_detection_template/blob/master/object_detection_training.ipynb) for further instructions"
   ]
  },
  {
   "cell_type": "code",
   "execution_count": null,
   "metadata": {},
   "outputs": [],
   "source": []
  }
 ],
 "metadata": {
  "kernelspec": {
   "display_name": "Python 3",
   "language": "python",
   "name": "python3"
  },
  "language_info": {
   "codemirror_mode": {
    "name": "ipython",
    "version": 3
   },
   "file_extension": ".py",
   "mimetype": "text/x-python",
   "name": "python",
   "nbconvert_exporter": "python",
   "pygments_lexer": "ipython3",
   "version": "3.6.9"
  }
 },
 "nbformat": 4,
 "nbformat_minor": 2
}
